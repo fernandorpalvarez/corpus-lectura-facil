{
 "cells": [
  {
   "cell_type": "markdown",
   "id": "5c63c848",
   "metadata": {},
   "source": [
    "### Using regular expressions"
   ]
  },
  {
   "cell_type": "code",
   "execution_count": 1,
   "id": "bb95d332",
   "metadata": {},
   "outputs": [],
   "source": [
    "from urllib.request import urlopen\n",
    "\n",
    "url = \"https://www.plenainclusion.org/publicaciones/buscador/?_sfm_descargable_lectura_facil=1&sf_paged=1\"\n",
    "page = urlopen(url)\n",
    "html_bytes = page.read()\n",
    "html = html_bytes.decode(\"utf-8\")"
   ]
  },
  {
   "cell_type": "code",
   "execution_count": 2,
   "id": "94a43089",
   "metadata": {},
   "outputs": [
    {
     "name": "stdout",
     "output_type": "stream",
     "text": [
      "https://www.plenainclusion.org/publicaciones/buscador/manual-para-participar-en-una-mesa-electoral-lectura-facil/\n"
     ]
    }
   ],
   "source": [
    "import re\n",
    "\n",
    "pattern = '<a href=\".*?/\">'\n",
    "match_results = re.search(pattern, html, re.IGNORECASE)\n",
    "url = match_results.group()\n",
    "url = re.sub('\".*?>', \"\", re.sub('<.*?\"', \"\", url))\n",
    "\n",
    "print(url)"
   ]
  },
  {
   "cell_type": "markdown",
   "id": "f85ccd1a",
   "metadata": {},
   "source": [
    "### Using BeautifulSoup"
   ]
  },
  {
   "cell_type": "code",
   "execution_count": 3,
   "id": "e74eb60e",
   "metadata": {},
   "outputs": [],
   "source": [
    "from bs4 import BeautifulSoup\n",
    "from urllib.request import urlopen\n",
    "from tqdm import tqdm\n",
    "\n",
    "def get_soup(url):\n",
    "    page = urlopen(url)\n",
    "    html = page.read().decode(\"utf-8\")\n",
    "    return BeautifulSoup(html, \"html.parser\")"
   ]
  },
  {
   "cell_type": "code",
   "execution_count": 4,
   "id": "2d305095",
   "metadata": {
    "scrolled": true
   },
   "outputs": [
    {
     "name": "stdout",
     "output_type": "stream",
     "text": [
      "Wall time: 6min 27s\n"
     ]
    }
   ],
   "source": [
    "%%time\n",
    "# Getting the url to the content subpages\n",
    "\n",
    "url = \"https://www.plenainclusion.org/publicaciones/buscador/?_sfm_descargable_lectura_facil=1&sf_paged=1\"\n",
    "soup = get_soup(url)\n",
    "\n",
    "i = 1\n",
    "content_file_urls = []\n",
    "\n",
    "while len(soup.find_all('h3', class_=\"card__title\"))>0:\n",
    "    \n",
    "    # Get the html content\n",
    "    url = \"https://www.plenainclusion.org/publicaciones/buscador/?_sfm_descargable_lectura_facil=1&sf_paged=\" + str(i)\n",
    "    soup = get_soup(url)\n",
    "    \n",
    "    # Parse the url with beautifulsoup\n",
    "    for card in soup.find_all('h3', class_=\"card__title\"):\n",
    "        content_url = card.find_all(['a'])[0]['href']\n",
    "        content_soup = get_soup(content_url)\n",
    "        content_file_urls.append(content_soup.find_all('a', class_=\"btn btn_principal btn_principal--naranja\")[0]['href'])\n",
    "\n",
    "    i += 1"
   ]
  },
  {
   "cell_type": "code",
   "execution_count": 3,
   "id": "35a7da3e",
   "metadata": {},
   "outputs": [],
   "source": [
    "from tqdm import tqdm\n",
    "\n",
    "# Saving files list in memory\n",
    "# try:\n",
    "#     if content_file_urls:\n",
    "#         with open(r'C:\\\\Users\\\\fernando.rubio.perez\\\\Jupyter projects\\\\TFM\\\\files_in_lectura_facil\\\\plenainclusion\\\\content_list.txt', 'w') as fp:\n",
    "#             for item in tqdm(content_file_urls):\n",
    "#                 # write each item on a new line\n",
    "#                 fp.write(\"%s\\n\" % item)\n",
    "# except Exception as e:\n",
    "#     print(e)\n",
    "\n",
    "# Reading files list from memory\n",
    "try:\n",
    "    with open('C:\\\\Users\\\\rubio\\\\TFM-linea-accesibilidad-cognitiva\\\\corpus-lectura-facil\\\\plena_inclusion\\\\content_list.txt') as f:\n",
    "        content_file_urls = f.read().splitlines()\n",
    "except Exception as e:\n",
    "    print(e)"
   ]
  },
  {
   "cell_type": "code",
   "execution_count": 4,
   "id": "987df0d7",
   "metadata": {},
   "outputs": [
    {
     "name": "stdout",
     "output_type": "stream",
     "text": [
      "567\n"
     ]
    }
   ],
   "source": [
    "# 567 out of the 679 pages with 'lectura fácil' contains usable .pdf files\n",
    "\n",
    "counter_pdf = 0\n",
    "\n",
    "for url in content_file_urls:\n",
    "    if '.pdf' in url:\n",
    "        counter_pdf += 1\n",
    "\n",
    "print(counter_pdf)"
   ]
  },
  {
   "cell_type": "code",
   "execution_count": 17,
   "id": "ff580072",
   "metadata": {
    "scrolled": true
   },
   "outputs": [
    {
     "name": "stderr",
     "output_type": "stream",
     "text": [
      "  0%|▏                                                                                 | 2/679 [00:00<00:57, 11.86it/s]"
     ]
    },
    {
     "name": "stdout",
     "output_type": "stream",
     "text": [
      "Requirement already satisfied: pip-system-certs in c:\\users\\rubio\\anaconda3\\lib\\site-packages (4.0)\n",
      "Requirement already satisfied: wrapt>=1.10.4 in c:\\users\\rubio\\anaconda3\\lib\\site-packages (from pip-system-certs) (1.12.1)\n",
      "('Connection aborted.', RemoteDisconnected('Remote end closed connection without response'))\n"
     ]
    },
    {
     "name": "stderr",
     "output_type": "stream",
     "text": [
      "  2%|█▋                                                                               | 14/679 [00:01<00:44, 14.80it/s]"
     ]
    },
    {
     "name": "stdout",
     "output_type": "stream",
     "text": [
      "('Connection aborted.', RemoteDisconnected('Remote end closed connection without response'))\n"
     ]
    },
    {
     "name": "stderr",
     "output_type": "stream",
     "text": [
      "  3%|██▌                                                                              | 22/679 [00:01<01:11,  9.25it/s]"
     ]
    },
    {
     "name": "stdout",
     "output_type": "stream",
     "text": [
      "('Connection aborted.', RemoteDisconnected('Remote end closed connection without response'))\n"
     ]
    },
    {
     "name": "stderr",
     "output_type": "stream",
     "text": [
      "  5%|████▏                                                                            | 35/679 [00:03<01:15,  8.53it/s]"
     ]
    },
    {
     "name": "stdout",
     "output_type": "stream",
     "text": [
      "('Connection aborted.', RemoteDisconnected('Remote end closed connection without response'))\n",
      "('Connection aborted.', RemoteDisconnected('Remote end closed connection without response'))\n"
     ]
    },
    {
     "name": "stderr",
     "output_type": "stream",
     "text": [
      "  7%|█████▌                                                                           | 47/679 [00:04<00:45, 13.83it/s]"
     ]
    },
    {
     "name": "stdout",
     "output_type": "stream",
     "text": [
      "('Connection aborted.', RemoteDisconnected('Remote end closed connection without response'))\n",
      "('Connection aborted.', RemoteDisconnected('Remote end closed connection without response'))\n"
     ]
    },
    {
     "name": "stderr",
     "output_type": "stream",
     "text": [
      "  8%|██████                                                                           | 51/679 [00:04<00:43, 14.36it/s]"
     ]
    },
    {
     "name": "stdout",
     "output_type": "stream",
     "text": [
      "('Connection aborted.', RemoteDisconnected('Remote end closed connection without response'))\n",
      "('Connection aborted.', RemoteDisconnected('Remote end closed connection without response'))\n"
     ]
    },
    {
     "name": "stderr",
     "output_type": "stream",
     "text": [
      "  9%|███████▏                                                                         | 60/679 [00:05<00:41, 14.96it/s]"
     ]
    },
    {
     "name": "stdout",
     "output_type": "stream",
     "text": [
      "('Connection aborted.', RemoteDisconnected('Remote end closed connection without response'))\n",
      "('Connection aborted.', RemoteDisconnected('Remote end closed connection without response'))\n",
      "('Connection aborted.', RemoteDisconnected('Remote end closed connection without response'))\n"
     ]
    },
    {
     "name": "stderr",
     "output_type": "stream",
     "text": [
      "\r",
      "  9%|███████▍                                                                         | 62/679 [00:05<00:40, 15.23it/s]"
     ]
    },
    {
     "name": "stdout",
     "output_type": "stream",
     "text": [
      "('Connection aborted.', RemoteDisconnected('Remote end closed connection without response'))\n"
     ]
    },
    {
     "name": "stderr",
     "output_type": "stream",
     "text": [
      " 12%|█████████▌                                                                       | 80/679 [00:06<00:37, 15.88it/s]"
     ]
    },
    {
     "name": "stdout",
     "output_type": "stream",
     "text": [
      "HTTPSConnectionPool(host='www.culturaydeporte.gob.es', port=443): Max retries exceeded with url: /eu/dam/jcr:3a6a6457-57f9-449a-8044-ab28378230bf/lf-ceramica-val-22.pdf (Caused by SSLError(SSLCertVerificationError(1, '[SSL: CERTIFICATE_VERIFY_FAILED] certificate verify failed: unable to get local issuer certificate (_ssl.c:1076)')))\n",
      "HTTPSConnectionPool(host='www.culturaydeporte.gob.es', port=443): Max retries exceeded with url: /eu/dam/jcr:1fdb1cd6-9402-46d3-9f9b-28124643b838/lfceramica-esp-22.pdf (Caused by SSLError(SSLCertVerificationError(1, '[SSL: CERTIFICATE_VERIFY_FAILED] certificate verify failed: unable to get local issuer certificate (_ssl.c:1076)')))\n"
     ]
    },
    {
     "name": "stderr",
     "output_type": "stream",
     "text": [
      " 16%|████████████▍                                                                   | 106/679 [00:08<00:44, 12.83it/s]"
     ]
    },
    {
     "name": "stdout",
     "output_type": "stream",
     "text": [
      "('Connection aborted.', RemoteDisconnected('Remote end closed connection without response'))\n"
     ]
    },
    {
     "name": "stderr",
     "output_type": "stream",
     "text": [
      " 19%|███████████████▏                                                                | 129/679 [00:09<00:20, 26.88it/s]"
     ]
    },
    {
     "name": "stdout",
     "output_type": "stream",
     "text": [
      "('Connection aborted.', RemoteDisconnected('Remote end closed connection without response'))\n",
      "('Connection aborted.', RemoteDisconnected('Remote end closed connection without response'))\n",
      "('Connection aborted.', RemoteDisconnected('Remote end closed connection without response'))\n",
      "('Connection aborted.', RemoteDisconnected('Remote end closed connection without response'))\n"
     ]
    },
    {
     "name": "stderr",
     "output_type": "stream",
     "text": [
      "\r",
      " 20%|███████████████▉                                                                | 135/679 [00:09<00:17, 31.75it/s]"
     ]
    },
    {
     "name": "stdout",
     "output_type": "stream",
     "text": [
      "('Connection aborted.', RemoteDisconnected('Remote end closed connection without response'))\n"
     ]
    },
    {
     "name": "stderr",
     "output_type": "stream",
     "text": [
      " 23%|██████████████████▋                                                             | 159/679 [00:12<00:42, 12.29it/s]"
     ]
    },
    {
     "name": "stdout",
     "output_type": "stream",
     "text": [
      "[Errno 22] Invalid argument: 'E:/OneDrive - Universidad Politécnica de Madrid/Documentos - Linea Accesibilidad Cognitiva (Proyecto)-Corpus Lectura Fácil (2023)/files_in_lectura_facil/plena_inclusion/GUIA.%20La%20consulta%20de%20ginecologia.LF.pdf?fbclid=IwAR37Nd5dWzHu3mUiNUadwvRYPgDhntiOL19Vm5jp8xRfcxS2UXH8VWFIz5k'\n"
     ]
    },
    {
     "name": "stderr",
     "output_type": "stream",
     "text": [
      "\r",
      " 24%|██████████████████▉                                                             | 161/679 [00:13<01:14,  6.98it/s]"
     ]
    },
    {
     "name": "stdout",
     "output_type": "stream",
     "text": [
      "[Errno 22] Invalid argument: 'E:/OneDrive - Universidad Politécnica de Madrid/Documentos - Linea Accesibilidad Cognitiva (Proyecto)-Corpus Lectura Fácil (2023)/files_in_lectura_facil/plena_inclusion/GUIA.%20Cuidar%20y%20conocer%20tu%20sexualidad.%20LF.pdf?fbclid=IwAR3tb6PBWYakuDKx2zLou5m1zUmIzvTdJY8J6UU5sO7szC7UCJZMjOrnyGU'\n"
     ]
    },
    {
     "name": "stderr",
     "output_type": "stream",
     "text": [
      "\r",
      " 24%|███████████████████▏                                                            | 163/679 [00:13<01:32,  5.56it/s]"
     ]
    },
    {
     "name": "stdout",
     "output_type": "stream",
     "text": [
      "[Errno 22] Invalid argument: 'E:/OneDrive - Universidad Politécnica de Madrid/Documentos - Linea Accesibilidad Cognitiva (Proyecto)-Corpus Lectura Fácil (2023)/files_in_lectura_facil/plena_inclusion/GUIA.%20Menstruacion%20y%20menopausia.LF.pdf?fbclid=IwAR2v8KaA4AOK7kOb36BvjvYFOJB-i2CbudcEcsPJNppchmoJlKTI8wBfsUc'\n"
     ]
    },
    {
     "name": "stderr",
     "output_type": "stream",
     "text": [
      " 25%|███████████████████▋                                                            | 167/679 [00:14<01:10,  7.21it/s]"
     ]
    },
    {
     "name": "stdout",
     "output_type": "stream",
     "text": [
      "('Connection aborted.', RemoteDisconnected('Remote end closed connection without response'))\n",
      "('Connection aborted.', RemoteDisconnected('Remote end closed connection without response'))\n"
     ]
    },
    {
     "name": "stderr",
     "output_type": "stream",
     "text": [
      " 27%|█████████████████████▎                                                          | 181/679 [00:16<01:06,  7.54it/s]"
     ]
    },
    {
     "name": "stdout",
     "output_type": "stream",
     "text": [
      "('Connection aborted.', RemoteDisconnected('Remote end closed connection without response'))\n",
      "HTTPSConnectionPool(host='www.culturaydeporte.gob.es', port=443): Max retries exceeded with url: /eu/dam/jcr:cdf8fd06-0c09-405f-b3d9-985f01e6cf40/lecturafacilcerralbo.pdf (Caused by SSLError(SSLCertVerificationError(1, '[SSL: CERTIFICATE_VERIFY_FAILED] certificate verify failed: unable to get local issuer certificate (_ssl.c:1076)')))\n"
     ]
    },
    {
     "name": "stderr",
     "output_type": "stream",
     "text": [
      "\r",
      " 27%|█████████████████████▋                                                          | 184/679 [00:16<00:48, 10.15it/s]"
     ]
    },
    {
     "name": "stdout",
     "output_type": "stream",
     "text": [
      "('Connection aborted.', RemoteDisconnected('Remote end closed connection without response'))\n"
     ]
    },
    {
     "name": "stderr",
     "output_type": "stream",
     "text": [
      " 28%|██████████████████████▍                                                         | 190/679 [00:17<00:45, 10.74it/s]"
     ]
    },
    {
     "name": "stdout",
     "output_type": "stream",
     "text": [
      "('Connection aborted.', RemoteDisconnected('Remote end closed connection without response'))\n"
     ]
    },
    {
     "name": "stderr",
     "output_type": "stream",
     "text": [
      " 39%|███████████████████████████████▏                                                | 265/679 [00:29<00:38, 10.87it/s]"
     ]
    },
    {
     "name": "stdout",
     "output_type": "stream",
     "text": [
      "('Connection aborted.', RemoteDisconnected('Remote end closed connection without response'))\n",
      "('Connection aborted.', RemoteDisconnected('Remote end closed connection without response'))\n"
     ]
    },
    {
     "name": "stderr",
     "output_type": "stream",
     "text": [
      " 40%|████████████████████████████████                                                | 272/679 [00:29<00:33, 12.13it/s]"
     ]
    },
    {
     "name": "stdout",
     "output_type": "stream",
     "text": [
      "('Connection aborted.', RemoteDisconnected('Remote end closed connection without response'))\n",
      "('Connection aborted.', RemoteDisconnected('Remote end closed connection without response'))\n"
     ]
    },
    {
     "name": "stderr",
     "output_type": "stream",
     "text": [
      " 46%|████████████████████████████████████▉                                           | 313/679 [00:35<00:34, 10.63it/s]"
     ]
    },
    {
     "name": "stdout",
     "output_type": "stream",
     "text": [
      "('Connection aborted.', RemoteDisconnected('Remote end closed connection without response'))\n"
     ]
    },
    {
     "name": "stderr",
     "output_type": "stream",
     "text": [
      " 49%|███████████████████████████████████████▎                                        | 334/679 [00:39<01:15,  4.54it/s]"
     ]
    },
    {
     "name": "stdout",
     "output_type": "stream",
     "text": [
      "('Connection aborted.', RemoteDisconnected('Remote end closed connection without response'))\n"
     ]
    },
    {
     "name": "stderr",
     "output_type": "stream",
     "text": [
      " 55%|███████████████████████████████████████████▊                                    | 372/679 [00:43<00:31,  9.77it/s]"
     ]
    },
    {
     "name": "stdout",
     "output_type": "stream",
     "text": [
      "('Connection aborted.', RemoteDisconnected('Remote end closed connection without response'))\n"
     ]
    },
    {
     "name": "stderr",
     "output_type": "stream",
     "text": [
      " 59%|███████████████████████████████████████████████▎                                | 402/679 [00:48<00:36,  7.65it/s]"
     ]
    },
    {
     "name": "stdout",
     "output_type": "stream",
     "text": [
      "HTTPSConnectionPool(host='www.culturaydeporte.gob.es', port=443): Max retries exceeded with url: /eu/dam/jcr:e78f6737-550c-4bb4-b4f0-3fb351fc5270/lfescultura-20.pdf (Caused by SSLError(SSLCertVerificationError(1, '[SSL: CERTIFICATE_VERIFY_FAILED] certificate verify failed: unable to get local issuer certificate (_ssl.c:1076)')))\n"
     ]
    },
    {
     "name": "stderr",
     "output_type": "stream",
     "text": [
      " 64%|███████████████████████████████████████████████████                             | 433/679 [00:52<00:18, 13.18it/s]"
     ]
    },
    {
     "name": "stdout",
     "output_type": "stream",
     "text": [
      "('Connection aborted.', RemoteDisconnected('Remote end closed connection without response'))\n"
     ]
    },
    {
     "name": "stderr",
     "output_type": "stream",
     "text": [
      " 65%|███████████████████████████████████████████████████▌                            | 438/679 [00:53<00:15, 15.08it/s]"
     ]
    },
    {
     "name": "stdout",
     "output_type": "stream",
     "text": [
      "('Connection aborted.', RemoteDisconnected('Remote end closed connection without response'))\n",
      "HTTPSConnectionPool(host='www.culturaydeporte.gob.es', port=443): Max retries exceeded with url: /eu/dam/jcr:540edbc7-fcbd-4da7-8a7d-9de69d475b24/plano-traje-lf.pdf (Caused by SSLError(SSLCertVerificationError(1, '[SSL: CERTIFICATE_VERIFY_FAILED] certificate verify failed: unable to get local issuer certificate (_ssl.c:1076)')))\n",
      "HTTPSConnectionPool(host='www.culturaydeporte.gob.es', port=443): Max retries exceeded with url: /eu/dam/jcr:5b8eb424-479f-4406-8545-661b3b19fdfc/lftraje-20.pdf (Caused by SSLError(SSLCertVerificationError(1, '[SSL: CERTIFICATE_VERIFY_FAILED] certificate verify failed: unable to get local issuer certificate (_ssl.c:1076)')))\n"
     ]
    },
    {
     "name": "stderr",
     "output_type": "stream",
     "text": [
      " 65%|████████████████████████████████████████████████████▎                           | 444/679 [00:54<00:23, 10.02it/s]"
     ]
    },
    {
     "name": "stdout",
     "output_type": "stream",
     "text": [
      "HTTPSConnectionPool(host='www.culturaydeporte.gob.es', port=443): Max retries exceeded with url: /dam/jcr:9a85bb6a-c3a6-4df5-99b8-c5e996c404c5/plano-antropologia-final-con-nipo.pdf (Caused by SSLError(SSLCertVerificationError(1, '[SSL: CERTIFICATE_VERIFY_FAILED] certificate verify failed: unable to get local issuer certificate (_ssl.c:1076)')))\n",
      "HTTPSConnectionPool(host='www.culturaydeporte.gob.es', port=443): Max retries exceeded with url: /dam/jcr:dfcdbeed-d1f1-4bba-9c56-1aa364438894/folleto-museo-antropolog-a-web.pdf (Caused by SSLError(SSLCertVerificationError(1, '[SSL: CERTIFICATE_VERIFY_FAILED] certificate verify failed: unable to get local issuer certificate (_ssl.c:1076)')))\n",
      "HTTPSConnectionPool(host='www.culturaydeporte.gob.es', port=443): Max retries exceeded with url: /museodeamerica/dam/jcr:3d68ecb2-63b3-4709-acb1-2be322660851/plano-del-museo-de-am-rica-en-lectura-f-cil.pdf (Caused by SSLError(SSLCertVerificationError(1, '[SSL: CERTIFICATE_VERIFY_FAILED] certificate verify failed: unable to get local issuer certificate (_ssl.c:1076)')))\n",
      "HTTPSConnectionPool(host='www.culturaydeporte.gob.es', port=443): Max retries exceeded with url: /museodeamerica/dam/jcr:3b9ed9ee-ce29-4d31-8a48-df25badc1e53/folleto-museo-america-comprimido.pdf (Caused by SSLError(SSLCertVerificationError(1, '[SSL: CERTIFICATE_VERIFY_FAILED] certificate verify failed: unable to get local issuer certificate (_ssl.c:1076)')))\n"
     ]
    },
    {
     "name": "stderr",
     "output_type": "stream",
     "text": [
      " 66%|█████████████████████████████████████████████████████                           | 450/679 [00:54<00:30,  7.45it/s]"
     ]
    },
    {
     "name": "stdout",
     "output_type": "stream",
     "text": [
      "('Connection aborted.', RemoteDisconnected('Remote end closed connection without response'))\n"
     ]
    },
    {
     "name": "stderr",
     "output_type": "stream",
     "text": [
      " 67%|█████████████████████████████████████████████████████▉                          | 458/679 [00:56<00:26,  8.48it/s]"
     ]
    },
    {
     "name": "stdout",
     "output_type": "stream",
     "text": [
      "('Connection aborted.', RemoteDisconnected('Remote end closed connection without response'))\n"
     ]
    },
    {
     "name": "stderr",
     "output_type": "stream",
     "text": [
      " 68%|██████████████████████████████████████████████████████▍                         | 462/679 [00:56<00:28,  7.74it/s]"
     ]
    },
    {
     "name": "stdout",
     "output_type": "stream",
     "text": [
      "('Connection aborted.', RemoteDisconnected('Remote end closed connection without response'))\n",
      "('Connection aborted.', RemoteDisconnected('Remote end closed connection without response'))\n"
     ]
    },
    {
     "name": "stderr",
     "output_type": "stream",
     "text": [
      " 69%|███████████████████████████████████████████████████████                         | 467/679 [00:59<00:58,  3.64it/s]"
     ]
    },
    {
     "name": "stdout",
     "output_type": "stream",
     "text": [
      "('Connection aborted.', RemoteDisconnected('Remote end closed connection without response'))\n"
     ]
    },
    {
     "name": "stderr",
     "output_type": "stream",
     "text": [
      "\r",
      " 69%|███████████████████████████████████████████████████████▎                        | 469/679 [00:59<00:40,  5.20it/s]"
     ]
    },
    {
     "name": "stdout",
     "output_type": "stream",
     "text": [
      "('Connection aborted.', RemoteDisconnected('Remote end closed connection without response'))\n"
     ]
    },
    {
     "name": "stderr",
     "output_type": "stream",
     "text": [
      " 72%|█████████████████████████████████████████████████████████▉                      | 492/679 [01:04<00:15, 12.13it/s]"
     ]
    },
    {
     "name": "stdout",
     "output_type": "stream",
     "text": [
      "('Connection aborted.', RemoteDisconnected('Remote end closed connection without response'))\n",
      "('Connection aborted.', RemoteDisconnected('Remote end closed connection without response'))\n"
     ]
    },
    {
     "name": "stderr",
     "output_type": "stream",
     "text": [
      " 85%|████████████████████████████████████████████████████████████████████▏           | 579/679 [01:43<00:16,  6.18it/s]"
     ]
    },
    {
     "name": "stdout",
     "output_type": "stream",
     "text": [
      "('Connection aborted.', RemoteDisconnected('Remote end closed connection without response'))\n",
      "('Connection aborted.', RemoteDisconnected('Remote end closed connection without response'))\n",
      "('Connection aborted.', RemoteDisconnected('Remote end closed connection without response'))\n"
     ]
    },
    {
     "name": "stderr",
     "output_type": "stream",
     "text": [
      " 87%|█████████████████████████████████████████████████████████████████████▍          | 589/679 [01:49<00:52,  1.72it/s]"
     ]
    },
    {
     "name": "stdout",
     "output_type": "stream",
     "text": [
      "('Connection aborted.', RemoteDisconnected('Remote end closed connection without response'))\n"
     ]
    },
    {
     "name": "stderr",
     "output_type": "stream",
     "text": [
      " 93%|██████████████████████████████████████████████████████████████████████████▋     | 634/679 [01:54<00:07,  5.88it/s]"
     ]
    },
    {
     "name": "stdout",
     "output_type": "stream",
     "text": [
      "('Connection aborted.', RemoteDisconnected('Remote end closed connection without response'))\n"
     ]
    },
    {
     "name": "stderr",
     "output_type": "stream",
     "text": [
      " 95%|███████████████████████████████████████████████████████████████████████████▉    | 644/679 [01:55<00:03, 11.30it/s]"
     ]
    },
    {
     "name": "stdout",
     "output_type": "stream",
     "text": [
      "('Connection aborted.', RemoteDisconnected('Remote end closed connection without response'))\n"
     ]
    },
    {
     "name": "stderr",
     "output_type": "stream",
     "text": [
      " 97%|█████████████████████████████████████████████████████████████████████████████▌  | 658/679 [01:57<00:02,  7.56it/s]"
     ]
    },
    {
     "name": "stdout",
     "output_type": "stream",
     "text": [
      "('Connection aborted.', RemoteDisconnected('Remote end closed connection without response'))\n"
     ]
    },
    {
     "name": "stderr",
     "output_type": "stream",
     "text": [
      " 99%|██████████████████████████████████████████████████████████████████████████████▊ | 669/679 [01:58<00:01,  8.31it/s]"
     ]
    },
    {
     "name": "stdout",
     "output_type": "stream",
     "text": [
      "('Connection aborted.', RemoteDisconnected('Remote end closed connection without response'))\n"
     ]
    },
    {
     "name": "stderr",
     "output_type": "stream",
     "text": [
      "100%|████████████████████████████████████████████████████████████████████████████████| 679/679 [02:00<00:00,  5.63it/s]\n"
     ]
    }
   ],
   "source": [
    "!pip install pip-system-certs\n",
    "import requests\n",
    "import os\n",
    "\n",
    "# Saving pdf content from urls into memory\n",
    "path_to_local_files = \"E:/OneDrive - Universidad Politécnica de Madrid/Documentos - Linea Accesibilidad Cognitiva (Proyecto)-Corpus Lectura Fácil (2023)/files_in_lectura_facil/plena_inclusion/\"\n",
    "pdfs_with_errors = []\n",
    "\n",
    "for url in tqdm(content_file_urls):\n",
    "    if '.pdf' in url:\n",
    "        try:\n",
    "            response = requests.get(url)            \n",
    "            file_local_path = os.path.join(path_to_local_files, url.split('/')[-1])\n",
    "            \n",
    "            with open(file_local_path, 'wb') as f:\n",
    "                f.write(response.content)\n",
    "\n",
    "        except Exception as e:\n",
    "            print(e)\n",
    "            pdfs_with_errors.append(url)"
   ]
  },
  {
   "cell_type": "code",
   "execution_count": 18,
   "id": "5a71c296",
   "metadata": {},
   "outputs": [
    {
     "name": "stderr",
     "output_type": "stream",
     "text": [
      "100%|██████████████████████████████████████████████████████████████████████████████| 62/62 [00:00<00:00, 124008.99it/s]"
     ]
    },
    {
     "name": "stdout",
     "output_type": "stream",
     "text": [
      "62\n"
     ]
    },
    {
     "name": "stderr",
     "output_type": "stream",
     "text": [
      "\n"
     ]
    }
   ],
   "source": [
    "# 62 out of the 567 pdf files had some kind of problem when loading them\n",
    "\n",
    "print(len(pdfs_with_errors))\n",
    "\n",
    "with open(r'C:\\\\Users\\\\rubio\\\\TFM-linea-accesibilidad-cognitiva\\\\corpus-lectura-facil\\\\plena_inclusion\\\\pdfs_with_errors.txt', 'w') as fp:\n",
    "    for item in tqdm(pdfs_with_errors):\n",
    "        # write each item on a new line\n",
    "        fp.write(\"%s\\n\" % item)"
   ]
  }
 ],
 "metadata": {
  "kernelspec": {
   "display_name": "Python 3",
   "language": "python",
   "name": "python3"
  },
  "language_info": {
   "codemirror_mode": {
    "name": "ipython",
    "version": 3
   },
   "file_extension": ".py",
   "mimetype": "text/x-python",
   "name": "python",
   "nbconvert_exporter": "python",
   "pygments_lexer": "ipython3",
   "version": "3.7.4"
  }
 },
 "nbformat": 4,
 "nbformat_minor": 5
}
