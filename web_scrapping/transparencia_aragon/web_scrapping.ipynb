{
 "cells": [
  {
   "cell_type": "markdown",
   "id": "f85ccd1a",
   "metadata": {},
   "source": [
    "### Using BeautifulSoup"
   ]
  },
  {
   "cell_type": "code",
   "execution_count": 12,
   "id": "e74eb60e",
   "metadata": {},
   "outputs": [],
   "source": [
    "from bs4 import BeautifulSoup\n",
    "from urllib.request import urlopen\n",
    "from tqdm import tqdm\n",
    "\n",
    "def get_soup(url):\n",
    "    page = urlopen(url)\n",
    "    html = page.read().decode(\"utf-8\")\n",
    "    return BeautifulSoup(html, \"html.parser\")"
   ]
  },
  {
   "cell_type": "code",
   "execution_count": 13,
   "id": "00a9eddc",
   "metadata": {
    "scrolled": true
   },
   "outputs": [
    {
     "name": "stdout",
     "output_type": "stream",
     "text": [
      "Wall time: 455 ms\n"
     ]
    }
   ],
   "source": [
    "%%time\n",
    "import urllib.parse\n",
    "\n",
    "base_url = \"https://transparencia.aragon.es/\"\n",
    "url = \"https://transparencia.aragon.es/GobiernoFacil\"\n",
    "content_file_urls = []\n",
    "\n",
    "soup = get_soup(url)\n",
    "for file in soup.find_all(['a']):\n",
    "    try:\n",
    "        if file['href'].endswith('.pdf'):\n",
    "            content_file_urls.append(urllib.parse.urljoin(base_url, file['href']))\n",
    "    except:\n",
    "        pass"
   ]
  },
  {
   "cell_type": "code",
   "execution_count": 2,
   "id": "35a7da3e",
   "metadata": {},
   "outputs": [],
   "source": [
    "from tqdm import tqdm\n",
    "\n",
    "# # Saving files list in memory\n",
    "# try:\n",
    "#     if content_file_urls:\n",
    "#         with open(r'C:\\\\Users\\\\fernando.rubio.perez\\\\Jupyter projects\\\\TFM\\\\files_in_lectura_facil\\\\transparenciaaragon\\\\content_list.txt', 'w') as fp:\n",
    "#             for item in tqdm(content_file_urls):\n",
    "#                 # write each item on a new line\n",
    "#                 fp.write(\"%s\\n\" % item)\n",
    "# except Exception as e:\n",
    "#     print(e)\n",
    "        \n",
    "# Reading files list from memory\n",
    "try:\n",
    "    with open('C:/Users/rubio/TFM-linea-accesibilidad-cognitiva/corpus-lectura-facil/transparencia_aragon/content_list.txt') as f:\n",
    "        content_file_urls = f.read().splitlines()\n",
    "except Exception as e:\n",
    "    print(e)"
   ]
  },
  {
   "cell_type": "code",
   "execution_count": 3,
   "id": "987df0d7",
   "metadata": {},
   "outputs": [
    {
     "name": "stdout",
     "output_type": "stream",
     "text": [
      "50\n"
     ]
    }
   ],
   "source": [
    "# 50 out of the 50 pages with 'lectura fácil' contains usable .pdf files\n",
    "\n",
    "counter_pdf = 0\n",
    "\n",
    "for url in content_file_urls:\n",
    "    if '.pdf' in url:\n",
    "        counter_pdf += 1\n",
    "\n",
    "print(counter_pdf)"
   ]
  },
  {
   "cell_type": "code",
   "execution_count": 4,
   "id": "ff580072",
   "metadata": {
    "scrolled": true
   },
   "outputs": [
    {
     "name": "stderr",
     "output_type": "stream",
     "text": [
      "\r",
      "  0%|                                                                                           | 0/50 [00:00<?, ?it/s]"
     ]
    },
    {
     "name": "stdout",
     "output_type": "stream",
     "text": [
      "Requirement already satisfied: pip-system-certs in c:\\users\\rubio\\anaconda3\\lib\\site-packages (4.0)\n",
      "Requirement already satisfied: wrapt>=1.10.4 in c:\\users\\rubio\\anaconda3\\lib\\site-packages (from pip-system-certs) (1.12.1)\n"
     ]
    },
    {
     "name": "stderr",
     "output_type": "stream",
     "text": [
      "100%|██████████████████████████████████████████████████████████████████████████████████| 50/50 [00:30<00:00,  1.64it/s]\n"
     ]
    }
   ],
   "source": [
    "!pip install pip-system-certs\n",
    "import requests\n",
    "import os\n",
    "\n",
    "# Saving pdf content from urls into memory\n",
    "path_to_local_files = \"E:/OneDrive - Universidad Politécnica de Madrid/Documentos - Linea Accesibilidad Cognitiva (Proyecto)-Corpus Lectura Fácil (2023)/files_in_lectura_facil/transparencia_aragon\"\n",
    "pdfs_with_errors = []\n",
    "\n",
    "for url in tqdm(content_file_urls):\n",
    "    if '.pdf' in url:\n",
    "        try:\n",
    "            response = requests.get(url)\n",
    "            file_local_path = os.path.join(path_to_local_files, url.split('/')[-1])\n",
    "            with open(file_local_path, 'wb') as f:\n",
    "                f.write(response.content)\n",
    "\n",
    "        except Exception as e:\n",
    "            print(e)\n",
    "            pdfs_with_errors.append(url)"
   ]
  },
  {
   "cell_type": "code",
   "execution_count": 6,
   "id": "5a71c296",
   "metadata": {},
   "outputs": [
    {
     "name": "stderr",
     "output_type": "stream",
     "text": [
      "0it [00:00, ?it/s]"
     ]
    },
    {
     "name": "stdout",
     "output_type": "stream",
     "text": [
      "0\n"
     ]
    },
    {
     "name": "stderr",
     "output_type": "stream",
     "text": [
      "\n"
     ]
    }
   ],
   "source": [
    "# 0 out of the 50 pdf files had some kind of problem when loading them\n",
    "\n",
    "print(len(pdfs_with_errors))\n",
    "\n",
    "with open(r'C:/Users/rubio/TFM-linea-accesibilidad-cognitiva/corpus-lectura-facil/transparencia_aragon/pdfs_with_errors.txt', 'w') as fp:\n",
    "    for item in tqdm(pdfs_with_errors):\n",
    "        # write each item on a new line\n",
    "        fp.write(\"%s\\n\" % item)"
   ]
  }
 ],
 "metadata": {
  "kernelspec": {
   "display_name": "Python 3",
   "language": "python",
   "name": "python3"
  },
  "language_info": {
   "codemirror_mode": {
    "name": "ipython",
    "version": 3
   },
   "file_extension": ".py",
   "mimetype": "text/x-python",
   "name": "python",
   "nbconvert_exporter": "python",
   "pygments_lexer": "ipython3",
   "version": "3.7.4"
  }
 },
 "nbformat": 4,
 "nbformat_minor": 5
}
