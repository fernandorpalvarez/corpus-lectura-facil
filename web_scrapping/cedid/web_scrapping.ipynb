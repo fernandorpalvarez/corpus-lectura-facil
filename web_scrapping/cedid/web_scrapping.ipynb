{
 "cells": [
  {
   "cell_type": "markdown",
   "id": "f85ccd1a",
   "metadata": {},
   "source": [
    "### Using BeautifulSoup"
   ]
  },
  {
   "cell_type": "code",
   "execution_count": 1,
   "id": "e74eb60e",
   "metadata": {},
   "outputs": [],
   "source": [
    "from bs4 import BeautifulSoup\n",
    "from urllib.request import urlopen\n",
    "from tqdm import tqdm\n",
    "from urllib.parse import urljoin\n",
    "\n",
    "def get_soup(url):\n",
    "    page = urlopen(url)\n",
    "    html = page.read().decode(\"utf-8\")\n",
    "    return BeautifulSoup(html, \"html.parser\")"
   ]
  },
  {
   "cell_type": "code",
   "execution_count": 2,
   "id": "2d305095",
   "metadata": {
    "scrolled": true
   },
   "outputs": [
    {
     "name": "stdout",
     "output_type": "stream",
     "text": [
      "Could not retreive pdf from:  https://katalogoa.siis.net/Record/560491 , due to:  list index out of range\n",
      "Could not retreive pdf from:  https://katalogoa.siis.net/Record/560491 , due to:  list index out of range\n",
      "Could not retreive pdf from:  https://katalogoa.siis.net/Record/536292 , due to:  list index out of range\n",
      "Could not retreive pdf from:  https://katalogoa.siis.net/Record/536292 , due to:  list index out of range\n",
      "Could not retreive pdf from:  https://katalogoa.siis.net/Record/528834 , due to:  list index out of range\n",
      "Could not retreive pdf from:  https://katalogoa.siis.net/Record/528834 , due to:  list index out of range\n",
      "Could not retreive pdf from:  https://katalogoa.siis.net/Record/518339 , due to:  list index out of range\n",
      "Could not retreive pdf from:  https://katalogoa.siis.net/Record/518339 , due to:  list index out of range\n",
      "Could not retreive pdf from:  https://katalogoa.siis.net/Record/176670 , due to:  list index out of range\n",
      "Could not retreive pdf from:  https://katalogoa.siis.net/Record/176670 , due to:  list index out of range\n",
      "Could not retreive pdf from:  https://katalogoa.siis.net/Record/159661 , due to:  list index out of range\n",
      "Could not retreive pdf from:  https://katalogoa.siis.net/Record/159661 , due to:  list index out of range\n",
      "Could not retreive pdf from:  https://katalogoa.siis.net/Record/138588 , due to:  list index out of range\n",
      "Could not retreive pdf from:  https://katalogoa.siis.net/Record/138588 , due to:  list index out of range\n",
      "Wall time: 4min 1s\n"
     ]
    }
   ],
   "source": [
    "%%time\n",
    "# Getting the url to the content subpages\n",
    "\n",
    "base_url = 'https://katalogoa.siis.net'\n",
    "url = \"https://katalogoa.siis.net/Search/Results?lookfor=LFCL&type=AllFields&sort=year&page=1&filter%5B%5D=quitar_facet%3A%22database_facet%22\"\n",
    "soup = get_soup(url)\n",
    "\n",
    "i = 1\n",
    "content_file_urls = []\n",
    "\n",
    "while len(soup.find_all('a', class_=\"title\"))>0:\n",
    "    \n",
    "    # Get the html content\n",
    "    url = \"https://katalogoa.siis.net/Search/Results?lookfor=LFCL&type=AllFields&sort=year&page=\" + str(i) + \"&filter%5B%5D=quitar_facet%3A%22database_facet%22\"\n",
    "    soup = get_soup(url)\n",
    "\n",
    "    # Parse the url with beautifulsoup\n",
    "    for card in soup.find_all('a', class_=\"title\"):\n",
    "        content_url = card['href']\n",
    "        if not content_url.startswith('http'):\n",
    "            content_url = urljoin(base_url, content_url)\n",
    "\n",
    "        content_soup = get_soup(content_url)\n",
    "        try:\n",
    "            content_file_urls.append(content_soup.find_all('a', class_=\"fulltext boton-descargar\")[0]['href'])\n",
    "        except Exception as e:\n",
    "            print(\"Could not retreive pdf from: \", content_url, \", due to: \", e)\n",
    "    i += 1"
   ]
  },
  {
   "cell_type": "code",
   "execution_count": 8,
   "id": "0c147edc",
   "metadata": {},
   "outputs": [
    {
     "data": {
      "text/plain": [
       "201"
      ]
     },
     "execution_count": 8,
     "metadata": {},
     "output_type": "execute_result"
    }
   ],
   "source": [
    "# removing duplicates\n",
    "content_file_urls = list(dict.fromkeys(content_file_urls))"
   ]
  },
  {
   "cell_type": "code",
   "execution_count": 2,
   "id": "35a7da3e",
   "metadata": {},
   "outputs": [],
   "source": [
    "from tqdm import tqdm\n",
    "\n",
    "# Saving files list in memory\n",
    "# try:\n",
    "#     if content_file_urls:\n",
    "#         with open(r'C:\\\\Users\\\\fernando.rubio.perez\\\\Jupyter projects\\\\TFM\\\\files_in_lectura_facil\\\\cedid\\\\content_list.txt', 'w') as fp:\n",
    "#             for item in tqdm(content_file_urls):\n",
    "#                 # write each item on a new line\n",
    "#                 fp.write(\"%s\\n\" % item)\n",
    "# except Exception as e:\n",
    "#     print(e)\n",
    "        \n",
    "# Reading files list from memory\n",
    "try:\n",
    "    with open('C:/Users/rubio/TFM-linea-accesibilidad-cognitiva/corpus-lectura-facil/cedid/content_list.txt') as f:\n",
    "        content_file_urls = f.read().splitlines()\n",
    "except Exception as e:\n",
    "    print(e)"
   ]
  },
  {
   "cell_type": "code",
   "execution_count": 3,
   "id": "987df0d7",
   "metadata": {},
   "outputs": [
    {
     "name": "stdout",
     "output_type": "stream",
     "text": [
      "178\n"
     ]
    }
   ],
   "source": [
    "# 178 out of the 208 pages with 'lectura fácil' contains usable .pdf files\n",
    "\n",
    "counter_pdf = 0\n",
    "\n",
    "for url in content_file_urls:\n",
    "    if '.pdf' in url:\n",
    "        counter_pdf += 1\n",
    "\n",
    "print(counter_pdf)"
   ]
  },
  {
   "cell_type": "code",
   "execution_count": 4,
   "id": "ff580072",
   "metadata": {
    "scrolled": true
   },
   "outputs": [
    {
     "name": "stderr",
     "output_type": "stream",
     "text": [
      "\r",
      "  0%|                                                                                          | 0/201 [00:00<?, ?it/s]"
     ]
    },
    {
     "name": "stdout",
     "output_type": "stream",
     "text": [
      "Requirement already satisfied: pip-system-certs in c:\\users\\rubio\\anaconda3\\lib\\site-packages (4.0)\n",
      "Requirement already satisfied: wrapt>=1.10.4 in c:\\users\\rubio\\anaconda3\\lib\\site-packages (from pip-system-certs) (1.12.1)\n"
     ]
    },
    {
     "name": "stderr",
     "output_type": "stream",
     "text": [
      "  1%|█▏                                                                                | 3/201 [00:04<04:16,  1.29s/it]"
     ]
    },
    {
     "name": "stdout",
     "output_type": "stream",
     "text": [
      "[Errno 22] Invalid argument: 'E:/OneDrive - Universidad Politécnica de Madrid/Documentos - Linea Accesibilidad Cognitiva (Proyecto)-Corpus Lectura Fácil (2023)/files_in_lectura_facil/cedid\\\\Vidas_de_mujeres_inspiradoras_4.pdf?sequence=1&rd=003198715430455'\n"
     ]
    },
    {
     "name": "stderr",
     "output_type": "stream",
     "text": [
      "  5%|████                                                                             | 10/201 [00:07<01:30,  2.12it/s]"
     ]
    },
    {
     "name": "stdout",
     "output_type": "stream",
     "text": [
      "('Connection aborted.', RemoteDisconnected('Remote end closed connection without response'))\n"
     ]
    },
    {
     "name": "stderr",
     "output_type": "stream",
     "text": [
      " 12%|██████████                                                                       | 25/201 [00:10<00:25,  7.02it/s]"
     ]
    },
    {
     "name": "stdout",
     "output_type": "stream",
     "text": [
      "[Errno 22] Invalid argument: 'E:/OneDrive - Universidad Politécnica de Madrid/Documentos - Linea Accesibilidad Cognitiva (Proyecto)-Corpus Lectura Fácil (2023)/files_in_lectura_facil/cedid\\\\default.aspx?CodigoCompleto=Observatoriors@@@CAS_ley_foral_infancia.pdf'\n"
     ]
    },
    {
     "name": "stderr",
     "output_type": "stream",
     "text": [
      " 20%|████████████████                                                                 | 40/201 [00:20<02:08,  1.25it/s]"
     ]
    },
    {
     "name": "stdout",
     "output_type": "stream",
     "text": [
      "[Errno 22] Invalid argument: 'E:/OneDrive - Universidad Politécnica de Madrid/Documentos - Linea Accesibilidad Cognitiva (Proyecto)-Corpus Lectura Fácil (2023)/files_in_lectura_facil/cedid\\\\Vidas_de_mujeres_inspiradoras_3.pdf?sequence=1&rd=003181315126266'\n",
      "('Connection aborted.', RemoteDisconnected('Remote end closed connection without response'))\n"
     ]
    },
    {
     "name": "stderr",
     "output_type": "stream",
     "text": [
      " 24%|███████████████████▎                                                             | 48/201 [00:22<00:47,  3.25it/s]"
     ]
    },
    {
     "name": "stdout",
     "output_type": "stream",
     "text": [
      "[Errno 22] Invalid argument: 'E:/OneDrive - Universidad Politécnica de Madrid/Documentos - Linea Accesibilidad Cognitiva (Proyecto)-Corpus Lectura Fácil (2023)/files_in_lectura_facil/cedid\\\\2ad695d3-39d3-42b7-4af9-853c496fc5c8?t=1657633844058'\n",
      "('Connection aborted.', RemoteDisconnected('Remote end closed connection without response'))\n"
     ]
    },
    {
     "name": "stderr",
     "output_type": "stream",
     "text": [
      " 30%|████████████████████████▏                                                        | 60/201 [00:25<00:24,  5.65it/s]"
     ]
    },
    {
     "name": "stdout",
     "output_type": "stream",
     "text": [
      "('Connection aborted.', RemoteDisconnected('Remote end closed connection without response'))\n"
     ]
    },
    {
     "name": "stderr",
     "output_type": "stream",
     "text": [
      " 44%|███████████████████████████████████▊                                             | 89/201 [00:34<00:58,  1.92it/s]"
     ]
    },
    {
     "name": "stdout",
     "output_type": "stream",
     "text": [
      "[Errno 22] Invalid argument: 'E:/OneDrive - Universidad Politécnica de Madrid/Documentos - Linea Accesibilidad Cognitiva (Proyecto)-Corpus Lectura Fácil (2023)/files_in_lectura_facil/cedid\\\\Vidas_de_mujeres_inspiradoras_en_lectura_f%c3%a1cil.pdf?sequence=1&rd=0031323571172084'\n"
     ]
    },
    {
     "name": "stderr",
     "output_type": "stream",
     "text": [
      " 46%|█████████████████████████████████████▍                                           | 93/201 [00:38<02:13,  1.24s/it]"
     ]
    },
    {
     "name": "stdout",
     "output_type": "stream",
     "text": [
      "('Connection aborted.', RemoteDisconnected('Remote end closed connection without response'))\n"
     ]
    },
    {
     "name": "stderr",
     "output_type": "stream",
     "text": [
      " 57%|█████████████████████████████████████████████▊                                  | 115/201 [00:49<00:23,  3.67it/s]"
     ]
    },
    {
     "name": "stdout",
     "output_type": "stream",
     "text": [
      "('Connection aborted.', RemoteDisconnected('Remote end closed connection without response'))\n"
     ]
    },
    {
     "name": "stderr",
     "output_type": "stream",
     "text": [
      " 67%|█████████████████████████████████████████████████████▋                          | 135/201 [00:58<00:30,  2.15it/s]"
     ]
    },
    {
     "name": "stdout",
     "output_type": "stream",
     "text": [
      "HTTPSConnectionPool(host='sid.usal.es', port=443): Max retries exceeded with url: /idocs/F8/FDO27430/Guia_orientacion_juridicaLF.pdf (Caused by SSLError(SSLCertVerificationError(1, \"[SSL: CERTIFICATE_VERIFY_FAILED] certificate verify failed: Hostname mismatch, certificate is not valid for 'sid.usal.es'. (_ssl.c:1076)\")))\n"
     ]
    },
    {
     "name": "stderr",
     "output_type": "stream",
     "text": [
      " 70%|███████████████████████████████████████████████████████▋                        | 140/201 [01:05<01:24,  1.38s/it]"
     ]
    },
    {
     "name": "stdout",
     "output_type": "stream",
     "text": [
      "[Errno 22] Invalid argument: 'E:/OneDrive - Universidad Politécnica de Madrid/Documentos - Linea Accesibilidad Cognitiva (Proyecto)-Corpus Lectura Fácil (2023)/files_in_lectura_facil/cedid\\\\Prevenci%c3%b3n_riesgos_laborales_Lavander%c3%ada_lectura_f%c3%a1cil.pdf?sequence=1&rd=0031541764220962'\n"
     ]
    },
    {
     "name": "stderr",
     "output_type": "stream",
     "text": [
      "\r",
      " 70%|████████████████████████████████████████████████████████                        | 141/201 [01:07<01:38,  1.64s/it]"
     ]
    },
    {
     "name": "stdout",
     "output_type": "stream",
     "text": [
      "[Errno 22] Invalid argument: 'E:/OneDrive - Universidad Politécnica de Madrid/Documentos - Linea Accesibilidad Cognitiva (Proyecto)-Corpus Lectura Fácil (2023)/files_in_lectura_facil/cedid\\\\Prevenci%c3%b3n_riesgos_laborales_Log%c3%adstica_lectura_f%c3%a1cil.pdf?sequence=1&rd=0031883942881233'\n"
     ]
    },
    {
     "name": "stderr",
     "output_type": "stream",
     "text": [
      "\r",
      " 71%|████████████████████████████████████████████████████████▌                       | 142/201 [01:09<01:40,  1.71s/it]"
     ]
    },
    {
     "name": "stdout",
     "output_type": "stream",
     "text": [
      "[Errno 22] Invalid argument: 'E:/OneDrive - Universidad Politécnica de Madrid/Documentos - Linea Accesibilidad Cognitiva (Proyecto)-Corpus Lectura Fácil (2023)/files_in_lectura_facil/cedid\\\\Prevenci%c3%b3n_riesgos_laborales_Limpieza_industrial_lectura_f%c3%a1cil.pdf?sequence=1&rd=0031199650012106'\n"
     ]
    },
    {
     "name": "stderr",
     "output_type": "stream",
     "text": [
      " 72%|█████████████████████████████████████████████████████████▎                      | 144/201 [01:13<01:43,  1.82s/it]"
     ]
    },
    {
     "name": "stdout",
     "output_type": "stream",
     "text": [
      "[Errno 22] Invalid argument: 'E:/OneDrive - Universidad Politécnica de Madrid/Documentos - Linea Accesibilidad Cognitiva (Proyecto)-Corpus Lectura Fácil (2023)/files_in_lectura_facil/cedid\\\\Prevenci%c3%b3n_riesgos_laborales_Gu%c3%ada_general_lectura_f%c3%a1cil.pdf?sequence=1&rd=0031381834235355'\n"
     ]
    },
    {
     "name": "stderr",
     "output_type": "stream",
     "text": [
      " 80%|████████████████████████████████████████████████████████████████                | 161/201 [01:18<00:09,  4.17it/s]"
     ]
    },
    {
     "name": "stdout",
     "output_type": "stream",
     "text": [
      "('Connection aborted.', RemoteDisconnected('Remote end closed connection without response'))\n"
     ]
    },
    {
     "name": "stderr",
     "output_type": "stream",
     "text": [
      " 90%|███████████████████████████████████████████████████████████████████████▋        | 180/201 [01:23<00:03,  6.20it/s]"
     ]
    },
    {
     "name": "stdout",
     "output_type": "stream",
     "text": [
      "('Connection aborted.', RemoteDisconnected('Remote end closed connection without response'))\n"
     ]
    },
    {
     "name": "stderr",
     "output_type": "stream",
     "text": [
      " 95%|███████████████████████████████████████████████████████████████████████████▌    | 190/201 [01:27<00:03,  2.76it/s]"
     ]
    },
    {
     "name": "stdout",
     "output_type": "stream",
     "text": [
      "[Errno 22] Invalid argument: 'E:/OneDrive - Universidad Politécnica de Madrid/Documentos - Linea Accesibilidad Cognitiva (Proyecto)-Corpus Lectura Fácil (2023)/files_in_lectura_facil/cedid\\\\Saber_mas_sobre_epilepsia.pdf?sequence=1&rd=0031118776874025'\n"
     ]
    },
    {
     "name": "stderr",
     "output_type": "stream",
     "text": [
      " 96%|████████████████████████████████████████████████████████████████████████████▍   | 192/201 [01:30<00:07,  1.28it/s]"
     ]
    },
    {
     "name": "stdout",
     "output_type": "stream",
     "text": [
      "[Errno 22] Invalid argument: 'E:/OneDrive - Universidad Politécnica de Madrid/Documentos - Linea Accesibilidad Cognitiva (Proyecto)-Corpus Lectura Fácil (2023)/files_in_lectura_facil/cedid\\\\La_capacidad_jur%c3%addica_y_la_tutela_LF.pdf?sequence=1&rd=0031260359806239'\n"
     ]
    },
    {
     "name": "stderr",
     "output_type": "stream",
     "text": [
      " 98%|██████████████████████████████████████████████████████████████████████████████  | 196/201 [01:31<00:02,  1.69it/s]"
     ]
    },
    {
     "name": "stdout",
     "output_type": "stream",
     "text": [
      "[Errno 22] Invalid argument: 'E:/OneDrive - Universidad Politécnica de Madrid/Documentos - Linea Accesibilidad Cognitiva (Proyecto)-Corpus Lectura Fácil (2023)/files_in_lectura_facil/cedid\\\\Convencion_Internacional_Naciones_Unidas_Derechos_Personas_Discapacidad.pdf?sequence=1&rd=0031445015439837'\n"
     ]
    },
    {
     "name": "stderr",
     "output_type": "stream",
     "text": [
      "100%|████████████████████████████████████████████████████████████████████████████████| 201/201 [01:32<00:00,  2.17it/s]\n"
     ]
    }
   ],
   "source": [
    "!pip install pip-system-certs\n",
    "import requests\n",
    "import os\n",
    "\n",
    "# Saving pdf content from urls into memory\n",
    "path_to_local_files = \"E:/OneDrive - Universidad Politécnica de Madrid/Documentos - Linea Accesibilidad Cognitiva (Proyecto)-Corpus Lectura Fácil (2023)/files_in_lectura_facil/cedid\"\n",
    "pdfs_with_errors = []\n",
    "\n",
    "for url in tqdm(content_file_urls):\n",
    "    if '.pdf' in url:\n",
    "        try:\n",
    "            response = requests.get(url)\n",
    "            file_local_path = os.path.join(path_to_local_files, url.split('/')[-1])\n",
    "            with open(file_local_path, 'wb') as f:\n",
    "                f.write(response.content)\n",
    "\n",
    "        except Exception as e:\n",
    "            print(e)\n",
    "            pdfs_with_errors.append(url)"
   ]
  },
  {
   "cell_type": "code",
   "execution_count": 5,
   "id": "5a71c296",
   "metadata": {},
   "outputs": [
    {
     "name": "stderr",
     "output_type": "stream",
     "text": [
      "100%|██████████████████████████████████████████████████████████████████████████████████████████| 21/21 [00:00<?, ?it/s]"
     ]
    },
    {
     "name": "stdout",
     "output_type": "stream",
     "text": [
      "21\n"
     ]
    },
    {
     "name": "stderr",
     "output_type": "stream",
     "text": [
      "\n"
     ]
    }
   ],
   "source": [
    "# 21 out of the 178 pdf files had some kind of problem when loading them\n",
    "\n",
    "print(len(pdfs_with_errors))\n",
    "\n",
    "with open(r'C:/Users/rubio/TFM-linea-accesibilidad-cognitiva/corpus-lectura-facil/cedid/pdfs_with_errors.txt', 'w') as fp:\n",
    "    for item in tqdm(pdfs_with_errors):\n",
    "        # write each item on a new line\n",
    "        fp.write(\"%s\\n\" % item)"
   ]
  }
 ],
 "metadata": {
  "kernelspec": {
   "display_name": "Python 3",
   "language": "python",
   "name": "python3"
  },
  "language_info": {
   "codemirror_mode": {
    "name": "ipython",
    "version": 3
   },
   "file_extension": ".py",
   "mimetype": "text/x-python",
   "name": "python",
   "nbconvert_exporter": "python",
   "pygments_lexer": "ipython3",
   "version": "3.7.4"
  }
 },
 "nbformat": 4,
 "nbformat_minor": 5
}
